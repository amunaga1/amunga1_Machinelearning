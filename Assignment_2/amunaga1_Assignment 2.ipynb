{
  "nbformat": 4,
  "nbformat_minor": 0,
  "metadata": {
    "colab": {
      "provenance": []
    },
    "kernelspec": {
      "name": "python3",
      "display_name": "Python 3"
    },
    "language_info": {
      "name": "python"
    }
  },
  "cells": [
    {
      "cell_type": "code",
      "execution_count": null,
      "metadata": {
        "colab": {
          "base_uri": "https://localhost:8080/"
        },
        "id": "tWqa6Oo7xoxB",
        "outputId": "3a743849-f06d-4e60-e7ee-e7d4298cbab7"
      },
      "outputs": [
        {
          "output_type": "stream",
          "name": "stdout",
          "text": [
            "Downloading data from https://storage.googleapis.com/tensorflow/tf-keras-datasets/imdb.npz\n",
            "17464789/17464789 [==============================] - 0s 0us/step\n"
          ]
        }
      ],
      "source": [
        "from tensorflow.keras.datasets import imdb\n",
        "(train_data, train_labels), (test_data, test_labels) = imdb.load_data(\n",
        "    num_words=10000)"
      ]
    },
    {
      "cell_type": "code",
      "source": [
        "max([max(sequence) for sequence in train_data])"
      ],
      "metadata": {
        "colab": {
          "base_uri": "https://localhost:8080/"
        },
        "id": "kbwT8GVxxsOO",
        "outputId": "8f588269-4882-42f2-b2e2-e4eec8d8bc52"
      },
      "execution_count": null,
      "outputs": [
        {
          "output_type": "execute_result",
          "data": {
            "text/plain": [
              "9999"
            ]
          },
          "metadata": {},
          "execution_count": 2
        }
      ]
    },
    {
      "cell_type": "code",
      "source": [
        "word_index = imdb.get_word_index()\n",
        "reverse_word_index = dict(\n",
        "    [(value, key) for (key, value) in word_index.items()])\n",
        "decoded_review = \" \".join(\n",
        "    [reverse_word_index.get(i - 3, \"?\") for i in train_data[0]])"
      ],
      "metadata": {
        "colab": {
          "base_uri": "https://localhost:8080/"
        },
        "id": "xsHnvgIgx7B_",
        "outputId": "cb381618-855f-494a-f07b-61a19014b5d0"
      },
      "execution_count": null,
      "outputs": [
        {
          "output_type": "stream",
          "name": "stdout",
          "text": [
            "Downloading data from https://storage.googleapis.com/tensorflow/tf-keras-datasets/imdb_word_index.json\n",
            "1641221/1641221 [==============================] - 0s 0us/step\n"
          ]
        }
      ]
    },
    {
      "cell_type": "code",
      "source": [
        "import numpy as np\n",
        "def vectorize_sequences(sequences, dimension=10000):\n",
        "    results = np.zeros((len(sequences), dimension))\n",
        "    for i, sequence in enumerate(sequences):\n",
        "        for j in sequence:\n",
        "            results[i, j] = 1.\n",
        "    return results\n",
        "x_train = vectorize_sequences(train_data)\n",
        "x_test = vectorize_sequences(test_data)"
      ],
      "metadata": {
        "id": "gKHAuSYUx9-P"
      },
      "execution_count": null,
      "outputs": []
    },
    {
      "cell_type": "code",
      "source": [
        "x_train[0]"
      ],
      "metadata": {
        "colab": {
          "base_uri": "https://localhost:8080/"
        },
        "id": "gxlQ-f9OyCME",
        "outputId": "5776e997-df90-421a-da02-4e7634564b01"
      },
      "execution_count": null,
      "outputs": [
        {
          "output_type": "execute_result",
          "data": {
            "text/plain": [
              "array([0., 1., 1., ..., 0., 0., 0.])"
            ]
          },
          "metadata": {},
          "execution_count": 5
        }
      ]
    },
    {
      "cell_type": "code",
      "source": [
        "y_train = np.asarray(train_labels).astype(\"float32\")\n",
        "y_test = np.asarray(test_labels).astype(\"float32\")"
      ],
      "metadata": {
        "id": "SahaRi9QyGKG"
      },
      "execution_count": null,
      "outputs": []
    },
    {
      "cell_type": "code",
      "source": [
        "from tensorflow.keras.models import Sequential\n",
        "from tensorflow.keras.layers import Dense\n",
        "from tensorflow.keras.layers import LeakyReLU,PReLU,ELU\n",
        "from tensorflow.keras.layers import Dropout"
      ],
      "metadata": {
        "id": "uGG5XV3_yKlR"
      },
      "execution_count": null,
      "outputs": []
    },
    {
      "cell_type": "code",
      "source": [
        "# Initialising the ANN\n",
        "classifier = Sequential()"
      ],
      "metadata": {
        "id": "_yNikpSNyYi9"
      },
      "execution_count": null,
      "outputs": []
    },
    {
      "cell_type": "code",
      "source": [
        "# using\"tanh Activation\" and Input Layer\n",
        "classifier.add(Dense(units=16,activation='tanh'))"
      ],
      "metadata": {
        "id": "ePOCjqlyyfqf"
      },
      "execution_count": null,
      "outputs": []
    },
    {
      "cell_type": "code",
      "source": [
        "# Adding the  hidden layer and Adding Dropout Layer to avoiod Overfitting(Regularization(L1&L2 Norms)) using\"tanh\"\n",
        "\n",
        "\n",
        "classifier.add(Dense(units=64, activation='tanh'))\n",
        "classifier.add(Dropout(rate=0.25))\n"
      ],
      "metadata": {
        "id": "MoZC_1OryvjC"
      },
      "execution_count": null,
      "outputs": []
    },
    {
      "cell_type": "code",
      "source": [
        "# Adding  the second hidden layer and Adding Dropout Layer To avoid Overfitting(Regularization(L1&L2 Norms )) using \"Tanh \" as given in instructions and \n",
        "#using two hidden layer as given in instructions\n",
        "classifier.add(Dense(units=32, activation='tanh'))\n",
        "classifier.add(Dropout(rate=0.25))"
      ],
      "metadata": {
        "id": "TMk3AUmOzIWb"
      },
      "execution_count": null,
      "outputs": []
    },
    {
      "cell_type": "code",
      "source": [
        "# Adding the output layer\n",
        "classifier.add(Dense(units=1,activation='sigmoid'))"
      ],
      "metadata": {
        "id": "ZsJPEjw10JDS"
      },
      "execution_count": null,
      "outputs": []
    },
    {
      "cell_type": "code",
      "source": [
        "#Using \"mse\" Loss Function and using Adam Optimizer(Mommentum+Rmsprop)\n",
        "classifier.compile(optimizer='adam',loss='mse',metrics=['accuracy'])"
      ],
      "metadata": {
        "id": "Bg5qqqIy0PZs"
      },
      "execution_count": null,
      "outputs": []
    },
    {
      "cell_type": "code",
      "source": [
        "import tensorflow\n",
        "#tensorflow.keras.optimizers.Adam(learning_rate=0.01)"
      ],
      "metadata": {
        "id": "AjK7o2F90tYW"
      },
      "execution_count": null,
      "outputs": []
    },
    {
      "cell_type": "code",
      "source": [
        "#Early Stopping\n",
        "import tensorflow as tf\n",
        "\n",
        "Early_Stopping=tf.keras.callbacks.EarlyStopping(\n",
        "    monitor=\"val_loss\",\n",
        "    min_delta=0.0001,\n",
        "    patience=20,\n",
        "    verbose=1,\n",
        "    mode=\"auto\",\n",
        "    baseline=None,\n",
        "    restore_best_weights=False,\n",
        "    start_from_epoch=0,\n",
        ")"
      ],
      "metadata": {
        "id": "-pVPllv90wDh"
      },
      "execution_count": null,
      "outputs": []
    },
    {
      "cell_type": "code",
      "source": [
        "model_history=classifier.fit(x_train,y_train,validation_split=0.33,batch_size=10,epochs=50,callbacks=Early_Stopping)"
      ],
      "metadata": {
        "colab": {
          "base_uri": "https://localhost:8080/"
        },
        "id": "urxBY4u100BC",
        "outputId": "b1859375-6729-453e-e9b8-b58fb072133e"
      },
      "execution_count": null,
      "outputs": [
        {
          "output_type": "stream",
          "name": "stdout",
          "text": [
            "Epoch 1/50\n",
            "1675/1675 [==============================] - 18s 9ms/step - loss: 0.1961 - accuracy: 0.8094 - val_loss: 0.1782 - val_accuracy: 0.8084\n",
            "Epoch 2/50\n",
            "1675/1675 [==============================] - 14s 8ms/step - loss: 0.1392 - accuracy: 0.8654 - val_loss: 0.1297 - val_accuracy: 0.8616\n",
            "Epoch 3/50\n",
            "1675/1675 [==============================] - 13s 8ms/step - loss: 0.1037 - accuracy: 0.8926 - val_loss: 0.1113 - val_accuracy: 0.8712\n",
            "Epoch 4/50\n",
            "1675/1675 [==============================] - 14s 8ms/step - loss: 0.0794 - accuracy: 0.9168 - val_loss: 0.1046 - val_accuracy: 0.8715\n",
            "Epoch 5/50\n",
            "1675/1675 [==============================] - 13s 8ms/step - loss: 0.0660 - accuracy: 0.9287 - val_loss: 0.1203 - val_accuracy: 0.8504\n",
            "Epoch 6/50\n",
            "1675/1675 [==============================] - 12s 7ms/step - loss: 0.0573 - accuracy: 0.9378 - val_loss: 0.1063 - val_accuracy: 0.8727\n",
            "Epoch 7/50\n",
            "1675/1675 [==============================] - 13s 8ms/step - loss: 0.0491 - accuracy: 0.9470 - val_loss: 0.1061 - val_accuracy: 0.8707\n",
            "Epoch 8/50\n",
            "1675/1675 [==============================] - 12s 7ms/step - loss: 0.0440 - accuracy: 0.9520 - val_loss: 0.1072 - val_accuracy: 0.8720\n",
            "Epoch 9/50\n",
            "1675/1675 [==============================] - 12s 7ms/step - loss: 0.0388 - accuracy: 0.9587 - val_loss: 0.1198 - val_accuracy: 0.8615\n",
            "Epoch 10/50\n",
            "1675/1675 [==============================] - 12s 7ms/step - loss: 0.0364 - accuracy: 0.9611 - val_loss: 0.1112 - val_accuracy: 0.8721\n",
            "Epoch 11/50\n",
            "1675/1675 [==============================] - 12s 7ms/step - loss: 0.0343 - accuracy: 0.9641 - val_loss: 0.1138 - val_accuracy: 0.8719\n",
            "Epoch 12/50\n",
            "1675/1675 [==============================] - 13s 8ms/step - loss: 0.0331 - accuracy: 0.9646 - val_loss: 0.1129 - val_accuracy: 0.8724\n",
            "Epoch 13/50\n",
            "1675/1675 [==============================] - 13s 8ms/step - loss: 0.0314 - accuracy: 0.9662 - val_loss: 0.1144 - val_accuracy: 0.8713\n",
            "Epoch 14/50\n",
            "1675/1675 [==============================] - 12s 7ms/step - loss: 0.0310 - accuracy: 0.9671 - val_loss: 0.1206 - val_accuracy: 0.8663\n",
            "Epoch 15/50\n",
            "1675/1675 [==============================] - 13s 8ms/step - loss: 0.0302 - accuracy: 0.9677 - val_loss: 0.1156 - val_accuracy: 0.8703\n",
            "Epoch 16/50\n",
            "1675/1675 [==============================] - 13s 8ms/step - loss: 0.0281 - accuracy: 0.9707 - val_loss: 0.1164 - val_accuracy: 0.8720\n",
            "Epoch 17/50\n",
            "1675/1675 [==============================] - 11s 7ms/step - loss: 0.0267 - accuracy: 0.9722 - val_loss: 0.1124 - val_accuracy: 0.8735\n",
            "Epoch 18/50\n",
            "1675/1675 [==============================] - 13s 8ms/step - loss: 0.0257 - accuracy: 0.9731 - val_loss: 0.1179 - val_accuracy: 0.8718\n",
            "Epoch 19/50\n",
            "1675/1675 [==============================] - 13s 8ms/step - loss: 0.0257 - accuracy: 0.9730 - val_loss: 0.1156 - val_accuracy: 0.8722\n",
            "Epoch 20/50\n",
            "1675/1675 [==============================] - 12s 7ms/step - loss: 0.0239 - accuracy: 0.9749 - val_loss: 0.1140 - val_accuracy: 0.8705\n",
            "Epoch 21/50\n",
            "1675/1675 [==============================] - 13s 7ms/step - loss: 0.0227 - accuracy: 0.9763 - val_loss: 0.1176 - val_accuracy: 0.8702\n",
            "Epoch 22/50\n",
            "1675/1675 [==============================] - 12s 7ms/step - loss: 0.0215 - accuracy: 0.9777 - val_loss: 0.1196 - val_accuracy: 0.8682\n",
            "Epoch 23/50\n",
            "1675/1675 [==============================] - 12s 7ms/step - loss: 0.0211 - accuracy: 0.9780 - val_loss: 0.1177 - val_accuracy: 0.8708\n",
            "Epoch 24/50\n",
            "1675/1675 [==============================] - 12s 7ms/step - loss: 0.0204 - accuracy: 0.9786 - val_loss: 0.1230 - val_accuracy: 0.8641\n",
            "Epoch 24: early stopping\n"
          ]
        }
      ]
    },
    {
      "cell_type": "code",
      "source": [
        "# list all data in history\n",
        "\n",
        "print(model_history.history.keys())"
      ],
      "metadata": {
        "colab": {
          "base_uri": "https://localhost:8080/"
        },
        "id": "OoiWiiTj04lC",
        "outputId": "bd23a44a-badf-484f-baa7-da2665d4d80b"
      },
      "execution_count": null,
      "outputs": [
        {
          "output_type": "stream",
          "name": "stdout",
          "text": [
            "dict_keys(['loss', 'accuracy', 'val_loss', 'val_accuracy'])\n"
          ]
        }
      ]
    },
    {
      "cell_type": "code",
      "source": [
        "import numpy as np\n",
        "import matplotlib.pyplot as plt\n",
        "import pandas as pd"
      ],
      "metadata": {
        "id": "wzaPSs722cC9"
      },
      "execution_count": null,
      "outputs": []
    },
    {
      "cell_type": "code",
      "source": [
        "# summarize history for accuracy\n",
        "\n",
        "plt.plot(model_history.history['accuracy'])\n",
        "plt.plot(model_history.history['val_accuracy'])\n",
        "plt.title('model accuracy')\n",
        "plt.ylabel('accuracy')\n",
        "plt.xlabel('epoch')\n",
        "plt.legend(['train', 'test'], loc='upper left')\n",
        "plt.show()"
      ],
      "metadata": {
        "colab": {
          "base_uri": "https://localhost:8080/",
          "height": 295
        },
        "id": "Ioe3lV9I2Q9w",
        "outputId": "b6fe86ab-de91-4f8e-8e85-dfdcf35e1d14"
      },
      "execution_count": null,
      "outputs": [
        {
          "output_type": "display_data",
          "data": {
            "text/plain": [
              "<Figure size 432x288 with 1 Axes>"
            ],
            "image/png": "[encoded data removed]"
          },
          "metadata": {
            "needs_background": "light"
          }
        }
      ]
    },
    {
      "cell_type": "code",
      "source": [
        " #summarize history for loss\n",
        "plt.plot(model_history.history['loss'])\n",
        "plt.plot(model_history.history['val_loss'])\n",
        "plt.title('model loss')\n",
        "plt.ylabel('loss')\n",
        "plt.xlabel('epoch')\n",
        "plt.legend(['train', 'test'], loc='upper left')\n",
        "plt.show()"
      ],
      "metadata": {
        "colab": {
          "base_uri": "https://localhost:8080/",
          "height": 295
        },
        "id": "TAlvjLND2T77",
        "outputId": "4b70d4bd-96e2-4fb9-ab90-891c424d190b"
      },
      "execution_count": null,
      "outputs": [
        {
          "output_type": "display_data",
          "data": {
            "text/plain": [
              "<Figure size 432x288 with 1 Axes>"
            ],
            "image/png": "[encoded data removed]"
          },
          "metadata": {
            "needs_background": "light"
          }
        }
      ]
    },
    {
      "cell_type": "code",
      "source": [],
      "metadata": {
        "id": "cymMJ6Nz20ow"
      },
      "execution_count": null,
      "outputs": []
    },
    {
      "cell_type": "code",
      "source": [],
      "metadata": {
        "id": "7QOQefNt3PqJ"
      },
      "execution_count": null,
      "outputs": []
    },
    {
      "cell_type": "code",
      "source": [],
      "metadata": {
        "id": "irXh8ckE3xC2"
      },
      "execution_count": null,
      "outputs": []
    },
    {
      "cell_type": "code",
      "source": [],
      "metadata": {
        "id": "vyLM_gYT2_Nx"
      },
      "execution_count": null,
      "outputs": []
    },
    {
      "cell_type": "code",
      "source": [],
      "metadata": {
        "id": "UU1adnzi3H1v"
      },
      "execution_count": null,
      "outputs": []
    }
  ]
}