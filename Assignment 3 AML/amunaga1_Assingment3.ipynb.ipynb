{
  "nbformat": 4,
  "nbformat_minor": 0,
  "metadata": {
    "colab": {
      "provenance": [],
      "machine_shape": "hm"
    },
    "kernelspec": {
      "name": "python3",
      "display_name": "Python 3"
    },
    "language_info": {
      "name": "python"
    },
    "accelerator": "GPU",
    "gpuClass": "standard"
  },
  "cells": [
    {
      "cell_type": "code",
      "source": [
        "import tensorflow as tf\n",
        "from tensorflow.keras.preprocessing.image import ImageDataGenerator\n",
        "from tensorflow.keras.models import Sequential\n",
        "from tensorflow.keras.layers import Conv2D, MaxPooling2D, Flatten, Dense\n",
        "from sklearn.model_selection import train_test_split"
      ],
      "metadata": {
        "id": "YtdvCdt5mP56"
      },
      "execution_count": null,
      "outputs": []
    },
    {
      "cell_type": "code",
      "source": [
        "# Load the dataset\n",
        "train_dir = '/content/drive/MyDrive/cats_vs_dogs_small/train'\n",
        "val_dir = '/content/drive/MyDrive/cats_vs_dogs_small/validation'\n",
        "test_dir = '/content/drive/MyDrive/cats_vs_dogs_small/test'\n",
        "image_size = (224, 224)  # resize images to this size\n"
      ],
      "metadata": {
        "id": "f1DQOlJcpQqW"
      },
      "execution_count": null,
      "outputs": []
    },
    {
      "cell_type": "code",
      "source": [
        "from google.colab import drive\n",
        "drive.mount('/content/drive')"
      ],
      "metadata": {
        "colab": {
          "base_uri": "https://localhost:8080/"
        },
        "id": "Dh6_UXiXpMiZ",
        "outputId": "7e383af2-7362-4dba-beae-2b689ef56a62"
      },
      "execution_count": null,
      "outputs": [
        {
          "output_type": "stream",
          "name": "stdout",
          "text": [
            "Mounted at /content/drive\n"
          ]
        }
      ]
    },
    {
      "cell_type": "code",
      "source": [],
      "metadata": {
        "id": "TNi2jhJ9pqw3"
      },
      "execution_count": null,
      "outputs": []
    },
    {
      "cell_type": "markdown",
      "source": [
        "# Using Small Dataset"
      ],
      "metadata": {
        "id": "haMGzPM70AkD"
      }
    },
    {
      "cell_type": "code",
      "source": [
        "train_datagen = ImageDataGenerator(rescale=1./255)\n",
        "train_generator = train_datagen.flow_from_directory(train_dir,\n",
        "                                                    target_size=image_size,\n",
        "                                                    batch_size=32,\n",
        "                                                    class_mode='binary')\n",
        "\n",
        "val_datagen = ImageDataGenerator(rescale=1./255)\n",
        "val_generator = val_datagen.flow_from_directory(val_dir,\n",
        "                                                target_size=image_size,\n",
        "                                                batch_size=32,\n",
        "                                                class_mode='binary')\n",
        "\n",
        "test_datagen = ImageDataGenerator(rescale=1./255)\n",
        "test_generator = test_datagen.flow_from_directory(test_dir,\n",
        "                                                  target_size=image_size,\n",
        "                                                  batch_size=32,\n",
        "                                                  class_mode='binary')"
      ],
      "metadata": {
        "colab": {
          "base_uri": "https://localhost:8080/"
        },
        "id": "oky46wKPplyl",
        "outputId": "5f550946-bda8-4e1a-9a96-029f65b441de"
      },
      "execution_count": null,
      "outputs": [
        {
          "output_type": "stream",
          "name": "stdout",
          "text": [
            "Found 2000 images belonging to 2 classes.\n",
            "Found 1000 images belonging to 2 classes.\n",
            "Found 1000 images belonging to 2 classes.\n"
          ]
        }
      ]
    },
    {
      "cell_type": "code",
      "source": [
        "from tensorflow.keras.models import Sequential\n",
        "from tensorflow.keras.layers import Conv2D, MaxPooling2D, Flatten, Dense, Dropout\n",
        "from tensorflow.keras.callbacks import EarlyStopping\n",
        "\n",
        "# Define the CNN model architecture\n",
        "model = Sequential()\n",
        "model.add(Conv2D(32, (3, 3), activation='relu', input_shape=(image_size[0], image_size[1], 3)))\n",
        "model.add(MaxPooling2D((2, 2)))\n",
        "model.add(Conv2D(64, (3, 3), activation='relu'))\n",
        "model.add(MaxPooling2D((2, 2)))\n",
        "model.add(Conv2D(128, (3, 3), activation='relu'))\n",
        "model.add(MaxPooling2D((2, 2)))\n",
        "model.add(Flatten())\n",
        "model.add(Dense(64, activation='relu'))\n",
        "model.add(Dropout(0.5))\n",
        "model.add(Dense(1, activation='sigmoid'))\n",
        "\n",
        "# Compile the model\n",
        "model.compile(optimizer='adam', loss='binary_crossentropy', metrics=['accuracy'])\n",
        "\n",
        "# Define early stopping criteria\n",
        "early_stop = EarlyStopping(monitor='val_loss', patience=3, verbose=1)\n",
        "\n",
        "# Train the model\n",
        "history = model.fit(train_generator, epochs=20, validation_data=val_generator, callbacks=[early_stop])\n",
        "\n",
        "# Evaluate the model on the test set\n",
        "test_loss, test_acc = model.evaluate(test_generator)\n",
        "\n",
        "print('Test accuracy:', test_acc)\n"
      ],
      "metadata": {
        "colab": {
          "base_uri": "https://localhost:8080/"
        },
        "id": "76BSzrGRp8CI",
        "outputId": "3ec03369-821d-46b8-e4d1-17db60432229"
      },
      "execution_count": null,
      "outputs": [
        {
          "output_type": "stream",
          "name": "stdout",
          "text": [
            "Epoch 1/20\n",
            "63/63 [==============================] - 422s 7s/step - loss: 0.7657 - accuracy: 0.5130 - val_loss: 0.6900 - val_accuracy: 0.5280\n",
            "Epoch 2/20\n",
            "63/63 [==============================] - 14s 223ms/step - loss: 0.6798 - accuracy: 0.5845 - val_loss: 0.6692 - val_accuracy: 0.5940\n",
            "Epoch 3/20\n",
            "63/63 [==============================] - 14s 220ms/step - loss: 0.6488 - accuracy: 0.6210 - val_loss: 0.6474 - val_accuracy: 0.6320\n",
            "Epoch 4/20\n",
            "63/63 [==============================] - 14s 219ms/step - loss: 0.6035 - accuracy: 0.6815 - val_loss: 0.6114 - val_accuracy: 0.6610\n",
            "Epoch 5/20\n",
            "63/63 [==============================] - 14s 218ms/step - loss: 0.5533 - accuracy: 0.7170 - val_loss: 0.6080 - val_accuracy: 0.6830\n",
            "Epoch 6/20\n",
            "63/63 [==============================] - 14s 216ms/step - loss: 0.4695 - accuracy: 0.7765 - val_loss: 0.5662 - val_accuracy: 0.7180\n",
            "Epoch 7/20\n",
            "63/63 [==============================] - 14s 221ms/step - loss: 0.3863 - accuracy: 0.8260 - val_loss: 0.6344 - val_accuracy: 0.7040\n",
            "Epoch 8/20\n",
            "63/63 [==============================] - 13s 214ms/step - loss: 0.3149 - accuracy: 0.8625 - val_loss: 0.6712 - val_accuracy: 0.7360\n",
            "Epoch 9/20\n",
            "63/63 [==============================] - 14s 215ms/step - loss: 0.2717 - accuracy: 0.8865 - val_loss: 0.7122 - val_accuracy: 0.7100\n",
            "Epoch 9: early stopping\n",
            "32/32 [==============================] - 202s 7s/step - loss: 0.7449 - accuracy: 0.6960\n",
            "Test accuracy: 0.6959999799728394\n"
          ]
        }
      ]
    },
    {
      "cell_type": "code",
      "source": [
        "print('Test accuracy:', test_acc)"
      ],
      "metadata": {
        "colab": {
          "base_uri": "https://localhost:8080/"
        },
        "id": "d3v1pg1kqOwx",
        "outputId": "b3f4cd39-f52d-4027-8c37-bcf3b9b8bd80"
      },
      "execution_count": null,
      "outputs": [
        {
          "output_type": "stream",
          "name": "stdout",
          "text": [
            "Test accuracy: 0.6959999799728394\n"
          ]
        }
      ]
    },
    {
      "cell_type": "markdown",
      "source": [
        "# Pretrained Model"
      ],
      "metadata": {
        "id": "ZnmLbpDN0MH1"
      }
    },
    {
      "cell_type": "code",
      "source": [
        "\n",
        "from keras.applications.vgg16 import VGG16"
      ],
      "metadata": {
        "id": "2BgEef61q8oe"
      },
      "execution_count": null,
      "outputs": []
    },
    {
      "cell_type": "code",
      "source": [
        "conv_base = VGG16(\n",
        "    weights='imagenet',\n",
        "    include_top = False,\n",
        "    input_shape=(image_size[0], image_size[1], 3)\n",
        ")"
      ],
      "metadata": {
        "id": "eogDvP4UrDOD"
      },
      "execution_count": null,
      "outputs": []
    },
    {
      "cell_type": "code",
      "source": [
        "model_1 = Sequential()\n",
        "\n",
        "model_1.add(conv_base)\n",
        "model_1.add(Flatten())\n",
        "model_1.add(Dense(256,activation='relu'))\n",
        "model_1.add(Dense(1,activation='sigmoid'))"
      ],
      "metadata": {
        "id": "qSkLlZwatFAM"
      },
      "execution_count": null,
      "outputs": []
    },
    {
      "cell_type": "code",
      "source": [
        "conv_base.trainable = False"
      ],
      "metadata": {
        "id": "OIvTAgaf07lX"
      },
      "execution_count": null,
      "outputs": []
    },
    {
      "cell_type": "code",
      "source": [
        "model_1.compile(optimizer='adam', loss='binary_crossentropy', metrics=['accuracy'])\n",
        "history = model_1.fit(train_generator, epochs=10, validation_data=val_generator)\n",
        "\n"
      ],
      "metadata": {
        "colab": {
          "base_uri": "https://localhost:8080/"
        },
        "id": "cPcF5F4O5sl0",
        "outputId": "421b1777-9be0-4a1f-b28a-06c183852ac2"
      },
      "execution_count": null,
      "outputs": [
        {
          "output_type": "stream",
          "name": "stdout",
          "text": [
            "Epoch 1/10\n",
            "63/63 [==============================] - 20s 293ms/step - loss: 0.7668 - accuracy: 0.7925 - val_loss: 0.2532 - val_accuracy: 0.8910\n",
            "Epoch 2/10\n",
            "63/63 [==============================] - 15s 234ms/step - loss: 0.1456 - accuracy: 0.9495 - val_loss: 0.2035 - val_accuracy: 0.9180\n",
            "Epoch 3/10\n",
            "63/63 [==============================] - 15s 232ms/step - loss: 0.0833 - accuracy: 0.9820 - val_loss: 0.2323 - val_accuracy: 0.9040\n",
            "Epoch 4/10\n",
            "63/63 [==============================] - 15s 233ms/step - loss: 0.0421 - accuracy: 0.9945 - val_loss: 0.2025 - val_accuracy: 0.9150\n",
            "Epoch 5/10\n",
            "63/63 [==============================] - 15s 234ms/step - loss: 0.0257 - accuracy: 0.9990 - val_loss: 0.2557 - val_accuracy: 0.8990\n",
            "Epoch 6/10\n",
            "63/63 [==============================] - 15s 234ms/step - loss: 0.0156 - accuracy: 1.0000 - val_loss: 0.2073 - val_accuracy: 0.9190\n",
            "Epoch 7/10\n",
            "63/63 [==============================] - 15s 234ms/step - loss: 0.0114 - accuracy: 1.0000 - val_loss: 0.2112 - val_accuracy: 0.9190\n",
            "Epoch 8/10\n",
            "63/63 [==============================] - 15s 233ms/step - loss: 0.0076 - accuracy: 1.0000 - val_loss: 0.2200 - val_accuracy: 0.9180\n",
            "Epoch 9/10\n",
            "63/63 [==============================] - 15s 240ms/step - loss: 0.0054 - accuracy: 1.0000 - val_loss: 0.2265 - val_accuracy: 0.9180\n",
            "Epoch 10/10\n",
            "63/63 [==============================] - 15s 235ms/step - loss: 0.0043 - accuracy: 1.0000 - val_loss: 0.2305 - val_accuracy: 0.9170\n"
          ]
        }
      ]
    },
    {
      "cell_type": "code",
      "source": [
        "# Evaluate the model on the test set\n",
        "test_loss, test_acc = model_1.evaluate(test_generator)\n",
        "\n",
        "print('Test accuracy:', test_acc)"
      ],
      "metadata": {
        "colab": {
          "base_uri": "https://localhost:8080/"
        },
        "id": "QxWnECpY6J5r",
        "outputId": "aa5a8f41-4eb3-4bbf-b35c-007bc6072461"
      },
      "execution_count": null,
      "outputs": [
        {
          "output_type": "stream",
          "name": "stdout",
          "text": [
            "32/32 [==============================] - 5s 153ms/step - loss: 0.2194 - accuracy: 0.9190\n",
            "Test accuracy: 0.9190000295639038\n"
          ]
        }
      ]
    },
    {
      "cell_type": "code",
      "source": [
        "print('Test accuracy:', test_acc)"
      ],
      "metadata": {
        "colab": {
          "base_uri": "https://localhost:8080/"
        },
        "id": "up64F9U6-Mpf",
        "outputId": "87fb9677-9c7b-470a-8755-5eb2ffae3b81"
      },
      "execution_count": null,
      "outputs": [
        {
          "output_type": "stream",
          "name": "stdout",
          "text": [
            "Test accuracy: 0.9190000295639038\n"
          ]
        }
      ]
    },
    {
      "cell_type": "markdown",
      "source": [
        "\n",
        "# Using Kaggle Data Set"
      ],
      "metadata": {
        "id": "HPFdY5OT-jI-"
      }
    },
    {
      "cell_type": "code",
      "source": [],
      "metadata": {
        "id": "0Png3nWv-Qkw"
      },
      "execution_count": null,
      "outputs": []
    }
  ]
}